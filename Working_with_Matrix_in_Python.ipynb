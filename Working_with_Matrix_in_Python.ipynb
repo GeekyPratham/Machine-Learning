{
  "nbformat": 4,
  "nbformat_minor": 0,
  "metadata": {
    "colab": {
      "provenance": []
    },
    "kernelspec": {
      "name": "python3",
      "display_name": "Python 3"
    },
    "language_info": {
      "name": "python"
    }
  },
  "cells": [
    {
      "cell_type": "code",
      "execution_count": 1,
      "metadata": {
        "id": "nR9CNZ12LqAw"
      },
      "outputs": [],
      "source": [
        "import numpy as np\n",
        "import pandas as pd\n"
      ]
    },
    {
      "cell_type": "markdown",
      "source": [
        "Creating Matrix using numpy"
      ],
      "metadata": {
        "id": "v73XsZqmyo-U"
      }
    },
    {
      "cell_type": "code",
      "source": [
        "matrix_1 = np.array([[2,3,4],[3,3,2]])"
      ],
      "metadata": {
        "id": "btXMsZFJyl9j"
      },
      "execution_count": 2,
      "outputs": []
    },
    {
      "cell_type": "code",
      "source": [
        "print(matrix_1)"
      ],
      "metadata": {
        "colab": {
          "base_uri": "https://localhost:8080/"
        },
        "id": "yvV9hhZkyzJD",
        "outputId": "2fdf867b-55de-4392-de46-c5b8d764679d"
      },
      "execution_count": 3,
      "outputs": [
        {
          "output_type": "stream",
          "name": "stdout",
          "text": [
            "[[2 3 4]\n",
            " [3 3 2]]\n"
          ]
        }
      ]
    },
    {
      "cell_type": "code",
      "source": [
        "matrix_1.shape"
      ],
      "metadata": {
        "colab": {
          "base_uri": "https://localhost:8080/"
        },
        "id": "VwdaHEncy0Fh",
        "outputId": "d2e6e9c9-cbcf-4253-eab4-00bd86ab1cb4"
      },
      "execution_count": 4,
      "outputs": [
        {
          "output_type": "execute_result",
          "data": {
            "text/plain": [
              "(2, 3)"
            ]
          },
          "metadata": {},
          "execution_count": 4
        }
      ]
    },
    {
      "cell_type": "markdown",
      "source": [
        "Creating Matrix with random values"
      ],
      "metadata": {
        "id": "qhnVQ1F6zHfe"
      }
    },
    {
      "cell_type": "code",
      "source": [
        "random_matrix = np.random.rand(3,3)"
      ],
      "metadata": {
        "id": "j3yFDLPdy5Qc"
      },
      "execution_count": 5,
      "outputs": []
    },
    {
      "cell_type": "code",
      "source": [
        "print(random_matrix)"
      ],
      "metadata": {
        "colab": {
          "base_uri": "https://localhost:8080/"
        },
        "id": "AdIcs4mqzPU3",
        "outputId": "bdc9feff-38c0-42c0-867b-38df53f9c439"
      },
      "execution_count": 6,
      "outputs": [
        {
          "output_type": "stream",
          "name": "stdout",
          "text": [
            "[[0.30517285 0.27607603 0.17114367]\n",
            " [0.17799741 0.57370052 0.47447304]\n",
            " [0.77835806 0.94232455 0.83507433]]\n"
          ]
        }
      ]
    },
    {
      "cell_type": "code",
      "source": [
        "random_matrix.shape"
      ],
      "metadata": {
        "colab": {
          "base_uri": "https://localhost:8080/"
        },
        "id": "_JgLLLrGziIR",
        "outputId": "4e645bcc-5349-4bd4-a218-04990e0c8559"
      },
      "execution_count": 7,
      "outputs": [
        {
          "output_type": "execute_result",
          "data": {
            "text/plain": [
              "(3, 3)"
            ]
          },
          "metadata": {},
          "execution_count": 7
        }
      ]
    },
    {
      "cell_type": "markdown",
      "source": [
        "Creating  matrix with random integers"
      ],
      "metadata": {
        "id": "13-S0R6dz1Zu"
      }
    },
    {
      "cell_type": "code",
      "source": [
        "random_matrix2 = np.random.randint(100,size=(3,5))"
      ],
      "metadata": {
        "id": "P7VvN-NbzmIV"
      },
      "execution_count": 8,
      "outputs": []
    },
    {
      "cell_type": "code",
      "source": [
        "print(random_matrix2)"
      ],
      "metadata": {
        "colab": {
          "base_uri": "https://localhost:8080/"
        },
        "id": "YgxitZ890L6d",
        "outputId": "bbb5d1cf-13d3-4a9d-cf06-cfa217df818d"
      },
      "execution_count": 9,
      "outputs": [
        {
          "output_type": "stream",
          "name": "stdout",
          "text": [
            "[[17 50 11 79  9]\n",
            " [95 21 22 94 97]\n",
            " [64  5 16 90 97]]\n"
          ]
        }
      ]
    },
    {
      "cell_type": "code",
      "source": [
        "random_matrix3 = np.random.randint(4,size=(10,10))"
      ],
      "metadata": {
        "id": "8tvNFmT10NS4"
      },
      "execution_count": 10,
      "outputs": []
    },
    {
      "cell_type": "code",
      "source": [
        "print(random_matrix3)"
      ],
      "metadata": {
        "colab": {
          "base_uri": "https://localhost:8080/"
        },
        "id": "4XzOO6bJ0dpS",
        "outputId": "408e7978-52bb-414e-d420-97b7b61bd5e6"
      },
      "execution_count": 11,
      "outputs": [
        {
          "output_type": "stream",
          "name": "stdout",
          "text": [
            "[[3 1 2 0 3 0 3 2 2 3]\n",
            " [0 0 2 2 0 1 1 1 1 0]\n",
            " [3 2 3 3 0 1 1 3 2 2]\n",
            " [0 1 1 0 0 0 0 1 3 3]\n",
            " [1 0 0 2 3 0 1 3 3 3]\n",
            " [3 1 1 3 3 1 2 2 1 2]\n",
            " [2 1 3 3 0 0 0 0 0 1]\n",
            " [0 3 0 1 0 0 3 1 2 2]\n",
            " [3 2 2 3 1 0 2 3 1 2]\n",
            " [0 0 0 3 0 3 3 1 0 3]]\n"
          ]
        }
      ]
    },
    {
      "cell_type": "markdown",
      "source": [
        "Matrix with all the values is 1"
      ],
      "metadata": {
        "id": "Bz_2Z1Zp0rar"
      }
    },
    {
      "cell_type": "markdown",
      "source": [],
      "metadata": {
        "id": "yA_ZWWg40rIa"
      }
    },
    {
      "cell_type": "code",
      "source": [
        "matrix_4 = np.ones((2,3))\n",
        "print(matrix_4)"
      ],
      "metadata": {
        "colab": {
          "base_uri": "https://localhost:8080/"
        },
        "id": "H6S6qgeq0m64",
        "outputId": "0dea02ad-a340-4a0d-db2d-7ad7030a50dc"
      },
      "execution_count": 12,
      "outputs": [
        {
          "output_type": "stream",
          "name": "stdout",
          "text": [
            "[[1. 1. 1.]\n",
            " [1. 1. 1.]]\n"
          ]
        }
      ]
    },
    {
      "cell_type": "code",
      "source": [
        "matrix_5 = np.ones((2,3),dtype=int)\n",
        "print(matrix_5)"
      ],
      "metadata": {
        "colab": {
          "base_uri": "https://localhost:8080/"
        },
        "id": "hYLI5h_21CMA",
        "outputId": "c1a5fb9b-1098-47bb-a3e2-c34d89e2c0a4"
      },
      "execution_count": 13,
      "outputs": [
        {
          "output_type": "stream",
          "name": "stdout",
          "text": [
            "[[1 1 1]\n",
            " [1 1 1]]\n"
          ]
        }
      ]
    },
    {
      "cell_type": "code",
      "source": [
        "matrix_6 = np.zeros((2,4))\n",
        "print(matrix_6)"
      ],
      "metadata": {
        "colab": {
          "base_uri": "https://localhost:8080/"
        },
        "id": "9T_Tyt2S1IbH",
        "outputId": "9b48d5fd-dfe4-497f-93da-3d1ff0973900"
      },
      "execution_count": 14,
      "outputs": [
        {
          "output_type": "stream",
          "name": "stdout",
          "text": [
            "[[0. 0. 0. 0.]\n",
            " [0. 0. 0. 0.]]\n"
          ]
        }
      ]
    },
    {
      "cell_type": "code",
      "source": [
        "matrix_7 = np.zeros((3,5),dtype=int)\n",
        "print(matrix_7)"
      ],
      "metadata": {
        "colab": {
          "base_uri": "https://localhost:8080/"
        },
        "id": "wf8_kE2K1NWz",
        "outputId": "10fa5129-64f8-4a8c-9de9-10af973aa8f4"
      },
      "execution_count": 15,
      "outputs": [
        {
          "output_type": "stream",
          "name": "stdout",
          "text": [
            "[[0 0 0 0 0]\n",
            " [0 0 0 0 0]\n",
            " [0 0 0 0 0]]\n"
          ]
        }
      ]
    },
    {
      "cell_type": "markdown",
      "source": [
        "Identity Matrix"
      ],
      "metadata": {
        "id": "XLSBPgQk1Wft"
      }
    },
    {
      "cell_type": "code",
      "source": [
        "identity = np.eye(3)\n",
        "print(identity)"
      ],
      "metadata": {
        "colab": {
          "base_uri": "https://localhost:8080/"
        },
        "id": "WsAEdL1W1UH4",
        "outputId": "3d4e8dd8-1010-4a07-e935-63a6efdf8821"
      },
      "execution_count": 16,
      "outputs": [
        {
          "output_type": "stream",
          "name": "stdout",
          "text": [
            "[[1. 0. 0.]\n",
            " [0. 1. 0.]\n",
            " [0. 0. 1.]]\n"
          ]
        }
      ]
    },
    {
      "cell_type": "code",
      "source": [
        "identity = np.eye(4,dtype=int)\n",
        "print(identity)"
      ],
      "metadata": {
        "colab": {
          "base_uri": "https://localhost:8080/"
        },
        "id": "-Rm_oIhr1byo",
        "outputId": "6874216a-fd5f-4df5-fc0f-10fa6a7138d5"
      },
      "execution_count": 17,
      "outputs": [
        {
          "output_type": "stream",
          "name": "stdout",
          "text": [
            "[[1 0 0 0]\n",
            " [0 1 0 0]\n",
            " [0 0 1 0]\n",
            " [0 0 0 1]]\n"
          ]
        }
      ]
    },
    {
      "cell_type": "code",
      "source": [
        "identity = np.eye((3,4),dtype=int)\n",
        "print(identity)"
      ],
      "metadata": {
        "colab": {
          "base_uri": "https://localhost:8080/",
          "height": 297
        },
        "id": "Et3x-1XF1eo5",
        "outputId": "c4f4a6e6-3d7f-4d4d-cdee-5b3f59cbefab"
      },
      "execution_count": 18,
      "outputs": [
        {
          "output_type": "error",
          "ename": "TypeError",
          "evalue": "'tuple' object cannot be interpreted as an integer",
          "traceback": [
            "\u001b[0;31m---------------------------------------------------------------------------\u001b[0m",
            "\u001b[0;31mTypeError\u001b[0m                                 Traceback (most recent call last)",
            "\u001b[0;32m/tmp/ipython-input-18-3488903228.py\u001b[0m in \u001b[0;36m<cell line: 0>\u001b[0;34m()\u001b[0m\n\u001b[0;32m----> 1\u001b[0;31m \u001b[0midentity\u001b[0m \u001b[0;34m=\u001b[0m \u001b[0mnp\u001b[0m\u001b[0;34m.\u001b[0m\u001b[0meye\u001b[0m\u001b[0;34m(\u001b[0m\u001b[0;34m(\u001b[0m\u001b[0;36m3\u001b[0m\u001b[0;34m,\u001b[0m\u001b[0;36m4\u001b[0m\u001b[0;34m)\u001b[0m\u001b[0;34m,\u001b[0m\u001b[0mdtype\u001b[0m\u001b[0;34m=\u001b[0m\u001b[0mint\u001b[0m\u001b[0;34m)\u001b[0m\u001b[0;34m\u001b[0m\u001b[0;34m\u001b[0m\u001b[0m\n\u001b[0m\u001b[1;32m      2\u001b[0m \u001b[0mprint\u001b[0m\u001b[0;34m(\u001b[0m\u001b[0midentity\u001b[0m\u001b[0;34m)\u001b[0m\u001b[0;34m\u001b[0m\u001b[0;34m\u001b[0m\u001b[0m\n",
            "\u001b[0;32m/usr/local/lib/python3.11/dist-packages/numpy/lib/_twodim_base_impl.py\u001b[0m in \u001b[0;36meye\u001b[0;34m(N, M, k, dtype, order, device, like)\u001b[0m\n\u001b[1;32m    217\u001b[0m     \u001b[0;32mif\u001b[0m \u001b[0mM\u001b[0m \u001b[0;32mis\u001b[0m \u001b[0;32mNone\u001b[0m\u001b[0;34m:\u001b[0m\u001b[0;34m\u001b[0m\u001b[0;34m\u001b[0m\u001b[0m\n\u001b[1;32m    218\u001b[0m         \u001b[0mM\u001b[0m \u001b[0;34m=\u001b[0m \u001b[0mN\u001b[0m\u001b[0;34m\u001b[0m\u001b[0;34m\u001b[0m\u001b[0m\n\u001b[0;32m--> 219\u001b[0;31m     \u001b[0mm\u001b[0m \u001b[0;34m=\u001b[0m \u001b[0mzeros\u001b[0m\u001b[0;34m(\u001b[0m\u001b[0;34m(\u001b[0m\u001b[0mN\u001b[0m\u001b[0;34m,\u001b[0m \u001b[0mM\u001b[0m\u001b[0;34m)\u001b[0m\u001b[0;34m,\u001b[0m \u001b[0mdtype\u001b[0m\u001b[0;34m=\u001b[0m\u001b[0mdtype\u001b[0m\u001b[0;34m,\u001b[0m \u001b[0morder\u001b[0m\u001b[0;34m=\u001b[0m\u001b[0morder\u001b[0m\u001b[0;34m,\u001b[0m \u001b[0mdevice\u001b[0m\u001b[0;34m=\u001b[0m\u001b[0mdevice\u001b[0m\u001b[0;34m)\u001b[0m\u001b[0;34m\u001b[0m\u001b[0;34m\u001b[0m\u001b[0m\n\u001b[0m\u001b[1;32m    220\u001b[0m     \u001b[0;32mif\u001b[0m \u001b[0mk\u001b[0m \u001b[0;34m>=\u001b[0m \u001b[0mM\u001b[0m\u001b[0;34m:\u001b[0m\u001b[0;34m\u001b[0m\u001b[0;34m\u001b[0m\u001b[0m\n\u001b[1;32m    221\u001b[0m         \u001b[0;32mreturn\u001b[0m \u001b[0mm\u001b[0m\u001b[0;34m\u001b[0m\u001b[0;34m\u001b[0m\u001b[0m\n",
            "\u001b[0;31mTypeError\u001b[0m: 'tuple' object cannot be interpreted as an integer"
          ]
        }
      ]
    },
    {
      "cell_type": "markdown",
      "source": [
        "Transpose of Matrix"
      ],
      "metadata": {
        "id": "vG4tdpIb1rPo"
      }
    },
    {
      "cell_type": "code",
      "source": [
        "a = np.random.randint(100,size=(2,5))\n",
        "print(a)\n",
        "b = np.transpose(a)\n",
        "print(b)"
      ],
      "metadata": {
        "id": "wNG5uZkk1h9-",
        "colab": {
          "base_uri": "https://localhost:8080/"
        },
        "outputId": "c2726fac-cda2-420b-965d-f28669630b42"
      },
      "execution_count": 19,
      "outputs": [
        {
          "output_type": "stream",
          "name": "stdout",
          "text": [
            "[[74 87 70 14 54]\n",
            " [35 35 25  3 64]]\n",
            "[[74 35]\n",
            " [87 35]\n",
            " [70 25]\n",
            " [14  3]\n",
            " [54 64]]\n"
          ]
        }
      ]
    },
    {
      "cell_type": "code",
      "source": [
        "a = np.random.randint(100,size=(2,5))\n",
        "b = np.random.randint(10,size=(2,5))\n",
        "print(\"a\")\n",
        "print(a)\n",
        "print(\"b\")\n",
        "print(b)\n",
        "sum = a + b\n",
        "print(sum)"
      ],
      "metadata": {
        "id": "honTZm6z4zHk",
        "colab": {
          "base_uri": "https://localhost:8080/"
        },
        "outputId": "4ad201e2-197d-4bf3-c96e-fb1259c221ff"
      },
      "execution_count": 21,
      "outputs": [
        {
          "output_type": "stream",
          "name": "stdout",
          "text": [
            "a\n",
            "[[62 24 18 17 75]\n",
            " [13  7 90 80 50]]\n",
            "b\n",
            "[[4 1 1 4 0]\n",
            " [5 3 8 9 6]]\n",
            "[[66 25 19 21 75]\n",
            " [18 10 98 89 56]]\n"
          ]
        }
      ]
    },
    {
      "cell_type": "code",
      "source": [
        "a = np.random.randint(100,size=(2,5))\n",
        "b = np.random.randint(10,size=(2,5))\n",
        "print(\"a\")\n",
        "print(a)\n",
        "print(\"b\")\n",
        "print(b)\n",
        "sum = a - b\n",
        "print(\"diff\")\n",
        "print(sum)"
      ],
      "metadata": {
        "colab": {
          "base_uri": "https://localhost:8080/"
        },
        "id": "8Pc3fGkAeTnz",
        "outputId": "de40c2ea-104e-47b4-e092-3a2465daf685"
      },
      "execution_count": 22,
      "outputs": [
        {
          "output_type": "stream",
          "name": "stdout",
          "text": [
            "a\n",
            "[[74 40 95 46 66]\n",
            " [11 10 28 43 76]]\n",
            "b\n",
            "[[5 5 5 7 4]\n",
            " [4 6 8 7 9]]\n",
            "diff\n",
            "[[69 35 90 39 62]\n",
            " [ 7  4 20 36 67]]\n"
          ]
        }
      ]
    },
    {
      "cell_type": "code",
      "source": [
        "a = np.random.randint(100,size=(2,5))\n",
        "b = np.random.randint(10,size=(2,5))\n",
        "print(\"a\")\n",
        "print(a)\n",
        "print(\"b\")\n",
        "print(b)\n",
        "sum = a * b\n",
        "print(\"mul\")\n",
        "print(sum)"
      ],
      "metadata": {
        "colab": {
          "base_uri": "https://localhost:8080/"
        },
        "id": "i_LQFr-UegSe",
        "outputId": "25871b4d-0676-4d66-9f1f-7683d17d7ff0"
      },
      "execution_count": 24,
      "outputs": [
        {
          "output_type": "stream",
          "name": "stdout",
          "text": [
            "a\n",
            "[[58 86  0 81 90]\n",
            " [59  6 69 11 87]]\n",
            "b\n",
            "[[2 9 7 2 0]\n",
            " [1 0 4 1 7]]\n",
            "mul\n",
            "[[116 774   0 162   0]\n",
            " [ 59   0 276  11 609]]\n"
          ]
        }
      ]
    },
    {
      "cell_type": "code",
      "source": [],
      "metadata": {
        "id": "_pstB8V4ejIc"
      },
      "execution_count": null,
      "outputs": []
    }
  ]
}